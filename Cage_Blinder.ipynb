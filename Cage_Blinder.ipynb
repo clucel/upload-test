{
 "cells": [
  {
   "cell_type": "markdown",
   "id": "a3c7325a-cf2a-4d7a-94f8-47446e61ab39",
   "metadata": {
    "tags": []
   },
   "source": [
    "### setup:\n",
    "put experiment tag in the 13th column of the mouse colony spreadsheet\n",
    "download the tab as a .csv"
   ]
  },
  {
   "cell_type": "code",
   "execution_count": 13,
   "id": "835f623f-79b5-4609-b9e7-6235ff099a6c",
   "metadata": {},
   "outputs": [],
   "source": [
    "import numpy as np\n",
    "import pandas as pd\n",
    "import os"
   ]
  },
  {
   "cell_type": "code",
   "execution_count": 93,
   "id": "272baa49-8d2f-4096-b862-e932886d6931",
   "metadata": {},
   "outputs": [],
   "source": [
    "exp_ID = 'RAM' #tag in the spreadsheet identifying subjects\n",
    "filename = 'Mouse Colony log-2020-9 - Syt7.csv'\n",
    "colony_path = 'Colony' #path to folder containing colony csv's"
   ]
  },
  {
   "cell_type": "code",
   "execution_count": 102,
   "id": "58d7461f-be60-4180-883f-94d21ddc1408",
   "metadata": {},
   "outputs": [
    {
     "data": {
      "text/html": [
       "<div>\n",
       "<style scoped>\n",
       "    .dataframe tbody tr th:only-of-type {\n",
       "        vertical-align: middle;\n",
       "    }\n",
       "\n",
       "    .dataframe tbody tr th {\n",
       "        vertical-align: top;\n",
       "    }\n",
       "\n",
       "    .dataframe thead th {\n",
       "        text-align: right;\n",
       "    }\n",
       "</style>\n",
       "<table border=\"1\" class=\"dataframe\">\n",
       "  <thead>\n",
       "    <tr style=\"text-align: right;\">\n",
       "      <th></th>\n",
       "      <th>Cage Tag</th>\n",
       "      <th>Mouseline</th>\n",
       "      <th>ID</th>\n",
       "      <th>Sex</th>\n",
       "      <th>Ear notch</th>\n",
       "      <th>Genotype</th>\n",
       "      <th>DOB</th>\n",
       "      <th>Unnamed: 13</th>\n",
       "    </tr>\n",
       "  </thead>\n",
       "  <tbody>\n",
       "    <tr>\n",
       "      <th>0</th>\n",
       "      <td>51CM</td>\n",
       "      <td>Syt8</td>\n",
       "      <td>51C</td>\n",
       "      <td>M4</td>\n",
       "      <td>RnRn</td>\n",
       "      <td>+/-</td>\n",
       "      <td>09/10/2021</td>\n",
       "      <td>Injected with Dlight 12/21/2021 in striatum on...</td>\n",
       "    </tr>\n",
       "    <tr>\n",
       "      <th>1</th>\n",
       "      <td>53BM.2</td>\n",
       "      <td>Syt7</td>\n",
       "      <td>53B</td>\n",
       "      <td>M9</td>\n",
       "      <td>RnRn</td>\n",
       "      <td>-/-</td>\n",
       "      <td>12/19/2021</td>\n",
       "      <td>Injected with DLight 2/1/2022 in midbrain bila...</td>\n",
       "    </tr>\n",
       "    <tr>\n",
       "      <th>2</th>\n",
       "      <td>54AF</td>\n",
       "      <td>Syt7</td>\n",
       "      <td>54A</td>\n",
       "      <td>F1</td>\n",
       "      <td>Rn</td>\n",
       "      <td>-/-</td>\n",
       "      <td>12/3/2021</td>\n",
       "      <td>Injected with DLight 1/17/2022 in striatum on ...</td>\n",
       "    </tr>\n",
       "  </tbody>\n",
       "</table>\n",
       "</div>"
      ],
      "text/plain": [
       "  Cage Tag Mouseline   ID Sex Ear notch Genotype         DOB  \\\n",
       "0     51CM      Syt8  51C  M4      RnRn      +/-  09/10/2021   \n",
       "1   53BM.2      Syt7  53B  M9      RnRn      -/-  12/19/2021   \n",
       "2     54AF      Syt7  54A  F1        Rn      -/-   12/3/2021   \n",
       "\n",
       "                                         Unnamed: 13  \n",
       "0  Injected with Dlight 12/21/2021 in striatum on...  \n",
       "1  Injected with DLight 2/1/2022 in midbrain bila...  \n",
       "2  Injected with DLight 1/17/2022 in striatum on ...  "
      ]
     },
     "execution_count": 102,
     "metadata": {},
     "output_type": "execute_result"
    }
   ],
   "source": [
    "colony = pd.read_csv(os.path.join(colony_path, filename), header=1, usecols=(2,4,5,6,7,8,9,13))\n",
    "colony.head(3)"
   ]
  },
  {
   "cell_type": "markdown",
   "id": "16d806a5-8708-41fc-9406-678c90491f9e",
   "metadata": {},
   "source": [
    "RAM cages: 54BM, 57AM, 53CM"
   ]
  },
  {
   "cell_type": "markdown",
   "id": "4e9cc0d2-18d1-4673-8208-6059f162d408",
   "metadata": {},
   "source": [
    "### current issue:\n",
    "fewer cage IDs than cages; must have been a big litter and they got split up into multiple cages\n",
    "\n",
    "might have to write something fancy (annoying) using the cage counter"
   ]
  },
  {
   "cell_type": "code",
   "execution_count": 97,
   "id": "3b483946-8259-4653-b943-c961ecb0209b",
   "metadata": {},
   "outputs": [
    {
     "name": "stdout",
     "output_type": "stream",
     "text": [
      "3 cages found, 12 subjects total\n"
     ]
    }
   ],
   "source": [
    "#find subjects (rows of colony dataframe) with experimental tag in column 13\n",
    "subjects = colony.loc[(~pd.isna(colony['Unnamed: 13']))&(colony['Unnamed: 13'].str.contains(exp_ID))]# = cage_ID.ID[i]\n",
    "cages = subjects['ID'].unique() #note, not sure if cage tag or ID is a better indicator\n",
    "print(f\"{len(cages)} cages found, {len(subjects)} subjects total\")"
   ]
  },
  {
   "cell_type": "code",
   "execution_count": null,
   "id": "bea872c9-77fb-45fe-9e07-52c08d83cb5c",
   "metadata": {},
   "outputs": [],
   "source": []
  },
  {
   "cell_type": "code",
   "execution_count": 10,
   "id": "c140178d-02b2-413f-a0d3-fbbf1f86f00f",
   "metadata": {},
   "outputs": [
    {
     "data": {
      "text/plain": [
       "['Mouse Colony log-2020-9 - Syt3.csv', 'Mouse Colony log-2020-9 - Syt7.csv']"
      ]
     },
     "execution_count": 10,
     "metadata": {},
     "output_type": "execute_result"
    }
   ],
   "source": [
    "os.listdir(colony_path)"
   ]
  },
  {
   "cell_type": "code",
   "execution_count": 9,
   "id": "51556166-d97e-4a38-b0ea-08b615fc7305",
   "metadata": {},
   "outputs": [
    {
     "name": "stdout",
     "output_type": "stream",
     "text": [
      "Mouse Colony log-2020-9 - Syt3.csv\n",
      "Mouse Colony log-2020-9 - Syt7.csv\n"
     ]
    }
   ],
   "source": [
    "colony_path = 'Colony'\n",
    "\n",
    "filenames = os.listdir(colony_path):\n"
   ]
  },
  {
   "cell_type": "code",
   "execution_count": null,
   "id": "e178a829-d58c-4d9e-8dbc-56efcfd25c04",
   "metadata": {},
   "outputs": [],
   "source": [
    "#import mouse colony data\n",
    "S3col = pd.read_csv('Colony/actual_database/Syt3.csv', header=1, usecols=(2,4,5,6,7,8,9))\n",
    "S7col = pd.read_csv('Colony/actual_database/Syt7.csv', header=1, usecols=(2,4,5,6,7,8,9))\n",
    "colonydata = pd.concat([S3col, S7col], ignore_index=True).dropna()\n",
    "\n",
    "#import blinded cage IDs\n",
    "cage_ID = pd.read_csv('Colony/cage_IDs.csv',index_col=None)\n",
    "\n",
    "print(len(colonydata), 'animals in colony data')"
   ]
  },
  {
   "cell_type": "code",
   "execution_count": null,
   "id": "963d5a59-56c1-4ae4-9c1c-db000baed224",
   "metadata": {},
   "outputs": [],
   "source": [
    "os.chdir('Syt7_WM/RAM/') #change current directory\n",
    "groom_path = 'Grooming/groom_times' #path to csv's of grooming durations\n",
    "\n",
    "filenames_list= []\n",
    "d = {}\n",
    "\n",
    "for filename in os.listdir(groom_path):\n",
    "    if filename.endswith('.csv'):\n",
    "        f = filename.split(\".\")[0]\n",
    "        ID = f[10:]  #split after YYMMDD_CL\n",
    "        df = pd.read_csv(os.path.join(groom_path, filename), header=None, usecols=(1,2), names=['duration','timestamp'])\n",
    "        \n",
    "        for i in range(len(df)): #convert timestamps to seconds\n",
    "            D = datetime.strptime(df.duration[i], '%H:%M:%S.%f')\n",
    "            deltaD = timedelta(minutes=D.minute, seconds=D.second, microseconds=D.microsecond)\n",
    "            df.duration[i] = deltaD.total_seconds()\n",
    "            T = datetime.strptime(df.timestamp[i], '%H:%M:%S.%f')\n",
    "            deltaT = timedelta(minutes=T.minute, seconds=T.second, microseconds=T.microsecond)\n",
    "            df.timestamp[i] = deltaT.total_seconds()\n",
    "\n",
    "        d[ID] = {'Grooming': df}\n",
    "\n",
    "print(len(d), 'files found')"
   ]
  },
  {
   "cell_type": "code",
   "execution_count": null,
   "id": "61c1c3c0-b2f2-4376-8f39-11db6df2d9d5",
   "metadata": {},
   "outputs": [],
   "source": []
  },
  {
   "cell_type": "code",
   "execution_count": null,
   "id": "e19aadd1-bad8-45bf-951b-7d9dbcaf2ef2",
   "metadata": {},
   "outputs": [],
   "source": [
    "#extract experimental subject data from colony data\n",
    "cagetags = [x[5:].replace('_','') for x in cage_ID.Cage.tolist()]\n",
    "allcages = '|'.join(cagetags)\n",
    "subjectdata = colonydata.loc[colonydata['Cage Tag'].str.contains(allcages)]\n",
    "subjectdata['Sex'] = [x[0] for x in subjectdata['Sex']] #remove number from sex label\n",
    "\n",
    "#add blinded cage IDs (Cage1, Cage2, etc) to experimental subject dataframe\n",
    "for i in range(len(cage_ID)):\n",
    "    [line, cage, sex] = cage_ID.Cage[i].split('_')\n",
    "    subjectdata.loc[(subjectdata['Mouseline']==line)&(subjectdata['Cage Tag']==cage+sex), 'Cage ID'] = cage_ID.ID[i]\n",
    "    \n",
    "print(len(subjectdata), 'subjects extracted')\n",
    "if len(d) > len(subjectdata):\n",
    "    print('(subject data missing...)')"
   ]
  }
 ],
 "metadata": {
  "kernelspec": {
   "display_name": "Python 3 (ipykernel)",
   "language": "python",
   "name": "python3"
  },
  "language_info": {
   "codemirror_mode": {
    "name": "ipython",
    "version": 3
   },
   "file_extension": ".py",
   "mimetype": "text/x-python",
   "name": "python",
   "nbconvert_exporter": "python",
   "pygments_lexer": "ipython3",
   "version": "3.9.7"
  }
 },
 "nbformat": 4,
 "nbformat_minor": 5
}
